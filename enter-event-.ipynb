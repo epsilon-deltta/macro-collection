{
 "cells": [
  {
   "cell_type": "code",
   "execution_count": 19,
   "id": "right-glucose",
   "metadata": {},
   "outputs": [],
   "source": [
    "import time"
   ]
  },
  {
   "cell_type": "code",
   "execution_count": 25,
   "id": "naked-commission",
   "metadata": {},
   "outputs": [],
   "source": [
    "time.sleep(1)"
   ]
  },
  {
   "cell_type": "code",
   "execution_count": 29,
   "id": "printable-envelope",
   "metadata": {},
   "outputs": [],
   "source": [
    "from selenium import webdriver\n",
    "from selenium.webdriver import ActionChains\n",
    "import time\n",
    "\n",
    "driver = webdriver.Chrome(r'C:\\Users\\epsilon\\dev\\chromedriver_win32\\chromedriver.exe') #또는 chromedriver.exe\n",
    "url ='http://ra.speakingmax.com/DA/page.html?_NC=1379&utm_campaign=da&utm_source=naver&utm_medium=tb_20210216_23&utm_term=I_I424&utm_content=ipadpro_D_ver1ax#dbinput'\n",
    "driver.get(url)\n",
    "time.sleep(2) # wait to load & render\n",
    "\n",
    "name_tag  = driver.find_element_by_id('aName') \n",
    "phone_tag = driver.find_element_by_id('aMobile')\n",
    "sub_tag   = driver.find_element_by_class_name('applyBtnArea')\n",
    "\n",
    "# somthing element 까지 스크롤\n",
    "action = ActionChains(driver)\n",
    "action.move_to_element(name_tag).perform()\n",
    "\n",
    "name_tag.send_keys(get_name())\n",
    "phone_tag.send_keys(phone)\n",
    "sub_tag.click()\n",
    "\n",
    "\n",
    "# event 응모 name은 한글만 인식 ,\n",
    "import random as rd\n",
    "def get_name():\n",
    "    namelist = list('안영필김택수김민수민지민주다빈미향')\n",
    "    rdname= ''.join(rd.sample(namelist,3))\n",
    "    return rdname\n",
    "\n",
    "phone = '01084602176'"
   ]
  },
  {
   "cell_type": "code",
   "execution_count": null,
   "id": "overhead-maria",
   "metadata": {},
   "outputs": [],
   "source": [
    "content = driver.find_element_by_xpath(r'//*[@id=\"powerballLogBox\"]/tbody[2]')\n",
    "# docs = content.text\n",
    "morebox = driver.find_element_by_class_name('moreBox')\n",
    "# print(morebox.)\n",
    "\n",
    "for _ in range(20):\n",
    "    box_status = morebox.value_of_css_property('display')\n",
    "    if (box_status is None)| (box_status == 'none') :\n",
    "        break\n",
    "    morebox.click()\n",
    "docs = driver.page_source"
   ]
  },
  {
   "cell_type": "code",
   "execution_count": null,
   "id": "ranging-pressing",
   "metadata": {},
   "outputs": [],
   "source": [
    "from bs4 import BeautifulSoup  as bs\n",
    "soup = bs(docs,'html.parser')"
   ]
  },
  {
   "cell_type": "code",
   "execution_count": null,
   "id": "dutch-applicant",
   "metadata": {
    "jupyter": {
     "source_hidden": true
    }
   },
   "outputs": [],
   "source": [
    "powerball\n",
    "\tresult\n",
    "\tscope\n",
    "\teven/odd\n",
    "\tunder/over\n",
    "Number\n",
    "\tresults\n",
    "\tsum\n",
    "\tscope\n",
    "\tbig/middle/small\n",
    "\teven/odd\n",
    "\tunder/odd"
   ]
  },
  {
   "cell_type": "code",
   "execution_count": null,
   "id": "celtic-penalty",
   "metadata": {},
   "outputs": [],
   "source": [
    "for i, tr in enumerate(content.children) :\n",
    "\n",
    "    if not isinstance(tr , bs4.element.Tag):\n",
    "        continue\n",
    "    \n",
    "    tds = []\n",
    "    for td in tr.select('td'):\n",
    "        tds.append(td)\n",
    "        \n",
    "    pwb['n']        = tds[0].select('.numberText')[1].get_text()\n",
    "    pwb['pw_num']   = tds[2].get_text()\n",
    "    \n",
    "    pwb['pw_scope'] = tds[3].get_text()\n",
    "    pwb['pw_odd']   = tds[4].select('div')[0].attrs['class']\n",
    "    pwb['pw_under'] = tds[5].select('div')[0].attrs['class']\n",
    "\n",
    "    pwb['n_nums']   = tds[6].get_text()\n",
    "    pwb['n_sum']    = tds[7].get_text()\n",
    "    pwb['n_scope']  = tds[8].get_text()\n",
    "    pwb['n_size']   = tds[9].get_text()\n",
    "    pwb['n_odd']    = tds[10].select('div')[0].attrs['class']\n",
    "    pwb['n_under']  = tds[4].select('div')[0].attrs['class']\n",
    "\n",
    "\n",
    "    if i == 3 :\n",
    "        break\n",
    "    print(tr)"
   ]
  }
 ],
 "metadata": {
  "kernelspec": {
   "display_name": "Python 3",
   "language": "python",
   "name": "python3"
  },
  "language_info": {
   "codemirror_mode": {
    "name": "ipython",
    "version": 3
   },
   "file_extension": ".py",
   "mimetype": "text/x-python",
   "name": "python",
   "nbconvert_exporter": "python",
   "pygments_lexer": "ipython3",
   "version": "3.6.12"
  },
  "widgets": {
   "application/vnd.jupyter.widget-state+json": {
    "state": {},
    "version_major": 2,
    "version_minor": 0
   }
  }
 },
 "nbformat": 4,
 "nbformat_minor": 5
}

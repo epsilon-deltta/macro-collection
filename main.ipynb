{
 "cells": [
  {
   "cell_type": "code",
   "execution_count": null,
   "id": "wireless-anatomy",
   "metadata": {},
   "outputs": [],
   "source": [
    "from selenium import webdriver\n",
    "import time\n",
    "\n",
    "driver = webdriver.Chrome(r'C:\\Users\\epsilon\\dev\\chromedriver_win32\\chromedriver.exe') #또는 chromedriver.exe\n",
    "url ='https://www.powerballgame.co.kr/?view=dayLog'\n",
    "driver.get(url)\n",
    "content = driver.find_element_by_xpath(r'//*[@id=\"powerballLogBox\"]/tbody[2]')\n",
    "# docs = content.text\n",
    "morebox = driver.find_element_by_class_name('moreBox')\n",
    "# print(morebox.)\n",
    "\n",
    "for _ in range(20):\n",
    "    box_status = morebox.value_of_css_property('display')\n",
    "    if (box_status is None)| (box_status == 'none') :\n",
    "        break\n",
    "    morebox.click()\n",
    "docs = driver.page_source"
   ]
  },
  {
   "cell_type": "code",
   "execution_count": null,
   "id": "friendly-thesaurus",
   "metadata": {},
   "outputs": [],
   "source": [
    "from bs4 import BeautifulSoup  as bs\n",
    "soup = bs(docs,'html.parser')"
   ]
  },
  {
   "cell_type": "code",
   "execution_count": null,
   "id": "thousand-stroke",
   "metadata": {
    "jupyter": {
     "source_hidden": true
    }
   },
   "outputs": [],
   "source": [
    "powerball\n",
    "\tresult\n",
    "\tscope\n",
    "\teven/odd\n",
    "\tunder/over\n",
    "Number\n",
    "\tresults\n",
    "\tsum\n",
    "\tscope\n",
    "\tbig/middle/small\n",
    "\teven/odd\n",
    "\tunder/odd"
   ]
  },
  {
   "cell_type": "code",
   "execution_count": null,
   "id": "compound-mortgage",
   "metadata": {},
   "outputs": [],
   "source": [
    "for i, tr in enumerate(content.children) :\n",
    "\n",
    "    if not isinstance(tr , bs4.element.Tag):\n",
    "        continue\n",
    "    \n",
    "    tds = []\n",
    "    for td in tr.select('td'):\n",
    "        tds.append(td)\n",
    "        \n",
    "    pwb['n']        = tds[0].select('.numberText')[1].get_text()\n",
    "    pwb['pw_num']   = tds[2].get_text()\n",
    "    \n",
    "    pwb['pw_scope'] = tds[3].get_text()\n",
    "    pwb['pw_odd']   = tds[4].select('div')[0].attrs['class']\n",
    "    pwb['pw_under'] = tds[5].select('div')[0].attrs['class']\n",
    "\n",
    "    pwb['n_nums']   = tds[6].get_text()\n",
    "    pwb['n_sum']    = tds[7].get_text()\n",
    "    pwb['n_scope']  = tds[8].get_text()\n",
    "    pwb['n_size']   = tds[9].get_text()\n",
    "    pwb['n_odd']    = tds[10].select('div')[0].attrs['class']\n",
    "    pwb['n_under']  = tds[4].select('div')[0].attrs['class']\n",
    "\n",
    "\n",
    "    if i == 3 :\n",
    "        break\n",
    "    print(tr)"
   ]
  }
 ],
 "metadata": {
  "kernelspec": {
   "display_name": "Python 3",
   "language": "python",
   "name": "python3"
  },
  "language_info": {
   "codemirror_mode": {
    "name": "ipython",
    "version": 3
   },
   "file_extension": ".py",
   "mimetype": "text/x-python",
   "name": "python",
   "nbconvert_exporter": "python",
   "pygments_lexer": "ipython3",
   "version": "3.6.12"
  },
  "widgets": {
   "application/vnd.jupyter.widget-state+json": {
    "state": {},
    "version_major": 2,
    "version_minor": 0
   }
  }
 },
 "nbformat": 4,
 "nbformat_minor": 5
}
